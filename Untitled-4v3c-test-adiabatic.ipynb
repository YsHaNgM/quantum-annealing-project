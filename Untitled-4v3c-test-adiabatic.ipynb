{
 "cells": [
  {
   "cell_type": "code",
   "execution_count": 110,
   "metadata": {
    "scrolled": true
   },
   "outputs": [],
   "source": [
    "from qutip import *\n",
    "from scipy import *\n",
    "from random import *\n",
    "\n",
    "import numpy as np\n",
    "import matplotlib.pyplot as plt\n",
    "\n",
    "\n",
    "N = 12\n",
    "M = 4096\n",
    "# vertex numbr\n",
    "#S E W N stands for countries of UK\n",
    "V = 4\n",
    "# colour number\n",
    "C = 3\n",
    "\n",
    "#edges matrix\n",
    "E = [[1,1,0,1],[1,1,1,1],[0,1,1,1],[1,1,1,1]]\n",
    "\n",
    "E = np.array(E)\n",
    "\n",
    "h  = 1.0 *np.ones(V) #1.0 * 2 * pi * (1 - 2 * np.ones(N))\n",
    "Jz = 2 * np.ones(N) #abs(1.0 * 2 * pi * (1 - 2 * rand(N)))\n",
    "Jx = 1.0 * 2 * pi * (1 - 2 * rand(N))\n",
    "\n",
    "\n",
    "si = qeye(2)\n",
    "sx = sigmax()\n",
    "sz = sigmaz()\n",
    "\n",
    "# sy = sigmay()\n",
    "\n",
    "si_list = []\n",
    "sx_list = []\n",
    "sz_list = []\n",
    "\n",
    "# sy_list = []\n",
    "\n",
    "for n in range(N):\n",
    "    op_list = []\n",
    "    for m in range(N):\n",
    "        op_list.append(si)\n",
    "        \n",
    "\n",
    "    op_list[n] = sx\n",
    "    sx_list.append(tensor(op_list))\n",
    "    \n",
    "    op_list[n] = sz\n",
    "    sz_list.append(tensor(op_list))\n",
    "    \n",
    "    op_list[n] = si\n",
    "    si_list.append(tensor(op_list))\n",
    "\n",
    "# basis(0) for |-1| spin down 1 for |+1| spin up\n",
    "\n",
    "# x(0) for sz |-1| spin down x(1) for sz |+1| spin up\n",
    "# x = (sz+1)/2   sz=(-1) => x=0 sz=(+1) => x=1\n",
    "\n",
    "psi_list = [basis(2,0),basis(2,0),basis(2,1),basis(2,0),basis(2,1),basis(2,0),basis(2,0),basis(2,0),basis(2,1),basis(2,1),basis(2,0),basis(2,0)]\n",
    "\n",
    "# for n in range(N):\n",
    "#     psi_list.append(basis(2,randrange(1)))\n",
    "# psi_list = [basis(2,0) for n in range(N)]\n",
    "psi0 = tensor(psi_list)\n",
    "#H0 transverse term\n",
    "H0 = 0    \n",
    "for n in range(N):\n",
    "    H0 += 1.0 * sx_list[n]\n",
    "    \n",
    "    \n",
    "#Hp problem term\n",
    "Hp = 0   \n",
    "vertex_sum = 0\n",
    "for v in range(V):\n",
    "    \n",
    "    colour_sum = 0\n",
    "    \n",
    "    for c in range(C):\n",
    "        colour_sum = colour_sum + sz_list[c+v*C]\n",
    "    vertex_sum += (si_list[0] - colour_sum)**2\n",
    "Hp += 1.0 * vertex_sum\n",
    "# for n in range(N):\n",
    "#     Hp += h[n] * sz_list[n]\n",
    "\n",
    "\n"
   ]
  },
  {
   "cell_type": "code",
   "execution_count": 111,
   "metadata": {
    "scrolled": false
   },
   "outputs": [
    {
     "data": {
      "text/latex": [
       "Quantum object: dims = [[2, 2, 2, 2, 2, 2, 2, 2, 2, 2, 2, 2], [2, 2, 2, 2, 2, 2, 2, 2, 2, 2, 2, 2]], shape = (4096, 4096), type = oper, isherm = True\\begin{equation*}\\left(\\begin{array}{*{11}c}16.0 & 0.0 & 0.0 & 0.0 & 0.0 & \\cdots & 0.0 & 0.0 & 0.0 & 0.0 & 0.0\\\\0.0 & 12.0 & 0.0 & 0.0 & 0.0 & \\cdots & 0.0 & 0.0 & 0.0 & 0.0 & 0.0\\\\0.0 & 0.0 & 12.0 & 0.0 & 0.0 & \\cdots & 0.0 & 0.0 & 0.0 & 0.0 & 0.0\\\\0.0 & 0.0 & 0.0 & 16.0 & 0.0 & \\cdots & 0.0 & 0.0 & 0.0 & 0.0 & 0.0\\\\0.0 & 0.0 & 0.0 & 0.0 & 12.0 & \\cdots & 0.0 & 0.0 & 0.0 & 0.0 & 0.0\\\\\\vdots & \\vdots & \\vdots & \\vdots & \\vdots & \\ddots & \\vdots & \\vdots & \\vdots & \\vdots & \\vdots\\\\0.0 & 0.0 & 0.0 & 0.0 & 0.0 & \\cdots & 52.0 & 0.0 & 0.0 & 0.0 & 0.0\\\\0.0 & 0.0 & 0.0 & 0.0 & 0.0 & \\cdots & 0.0 & 48.0 & 0.0 & 0.0 & 0.0\\\\0.0 & 0.0 & 0.0 & 0.0 & 0.0 & \\cdots & 0.0 & 0.0 & 52.0 & 0.0 & 0.0\\\\0.0 & 0.0 & 0.0 & 0.0 & 0.0 & \\cdots & 0.0 & 0.0 & 0.0 & 52.0 & 0.0\\\\0.0 & 0.0 & 0.0 & 0.0 & 0.0 & \\cdots & 0.0 & 0.0 & 0.0 & 0.0 & 64.0\\\\\\end{array}\\right)\\end{equation*}"
      ],
      "text/plain": [
       "Quantum object: dims = [[2, 2, 2, 2, 2, 2, 2, 2, 2, 2, 2, 2], [2, 2, 2, 2, 2, 2, 2, 2, 2, 2, 2, 2]], shape = (4096, 4096), type = oper, isherm = True\n",
       "Qobj data =\n",
       "[[16.  0.  0. ...  0.  0.  0.]\n",
       " [ 0. 12.  0. ...  0.  0.  0.]\n",
       " [ 0.  0. 12. ...  0.  0.  0.]\n",
       " ...\n",
       " [ 0.  0.  0. ... 52.  0.  0.]\n",
       " [ 0.  0.  0. ...  0. 52.  0.]\n",
       " [ 0.  0.  0. ...  0.  0. 64.]]"
      ]
     },
     "execution_count": 111,
     "metadata": {},
     "output_type": "execute_result"
    }
   ],
   "source": [
    "Hp"
   ]
  },
  {
   "cell_type": "code",
   "execution_count": 112,
   "metadata": {},
   "outputs": [],
   "source": [
    "\n",
    "colour_sum = 0\n",
    "for c in range(C):\n",
    "    # interaction terms\n",
    "    for v in range(V):\n",
    "        for v1 in range(v+1,V):\n",
    "            colour_sum += np.triu(E)[v][v1] * sz_list[c+v*C] * sz_list[c+v1*C]\n",
    "Hp += 1.0 * colour_sum\n",
    "\n"
   ]
  },
  {
   "cell_type": "code",
   "execution_count": 113,
   "metadata": {},
   "outputs": [
    {
     "data": {
      "text/plain": [
       "[[2, 2, 2, 2, 2, 2, 2, 2, 2, 2, 2, 2], [2, 2, 2, 2, 2, 2, 2, 2, 2, 2, 2, 2]]"
      ]
     },
     "execution_count": 113,
     "metadata": {},
     "output_type": "execute_result"
    }
   ],
   "source": [
    "Hp.dims"
   ]
  },
  {
   "cell_type": "code",
   "execution_count": 114,
   "metadata": {},
   "outputs": [
    {
     "data": {
      "text/plain": [
       "[[2, 2, 2, 2, 2, 2, 2, 2, 2, 2, 2, 2], [2, 2, 2, 2, 2, 2, 2, 2, 2, 2, 2, 2]]"
      ]
     },
     "execution_count": 114,
     "metadata": {},
     "output_type": "execute_result"
    }
   ],
   "source": [
    "H0.dims"
   ]
  },
  {
   "cell_type": "code",
   "execution_count": 115,
   "metadata": {},
   "outputs": [],
   "source": [
    "\n",
    "\n",
    "\n",
    "\n",
    "\n",
    "def process_rho(tau, psi):\n",
    "  \n",
    "    # evaluate the Hamiltonian with gradually switched on interaction \n",
    "    H = Qobj.evaluate(h_t, tau, args)\n",
    "\n",
    "    # find the M lowest eigenvalues of the system\n",
    "    evals, ekets = H.eigenstates(eigvals=M)\n",
    "\n",
    "    evals_mat[idx[0],:] = real(evals)\n",
    "    \n",
    "#     # find the overlap between the eigenstates and psi \n",
    "#     for n, eket in enumerate(ekets):\n",
    "#         P_mat[idx[0],n] = abs((eket.dag().data * psi.data)[0,0])**2    \n",
    "        \n",
    "    idx[0] += 1\n",
    "    \n",
    "\n"
   ]
  },
  {
   "cell_type": "code",
   "execution_count": 120,
   "metadata": {},
   "outputs": [],
   "source": [
    "expect_H = []\n",
    "for step in list([2,10]):\n",
    "    t = 0.0001\n",
    "    taulist = np.linspace(0, t, step)\n",
    "    # the time-dependent hamiltonian in list-function format\n",
    "    args = {'t_max': max(taulist)}\n",
    "\n",
    "    h_t = [[H0, lambda t, args : (args['t_max']-t)/args['t_max']],\n",
    "           [Hp, lambda t, args : t/args['t_max']]]\n",
    "\n",
    "    evals_mat = np.zeros((len(taulist),M))\n",
    "    P_mat = np.zeros((len(taulist),M))\n",
    "\n",
    "    idx = [0]\n",
    "    sesolve(h_t, psi0, taulist, process_rho, args, options=Options(nsteps=100000), _safe_mode=True)\n",
    "    expect_H.append(sort(evals_mat[len(taulist)-1])[0])"
   ]
  },
  {
   "cell_type": "code",
   "execution_count": 121,
   "metadata": {},
   "outputs": [
    {
     "data": {
      "text/plain": [
       "[-5.0, -5.0]"
      ]
     },
     "execution_count": 121,
     "metadata": {},
     "output_type": "execute_result"
    }
   ],
   "source": [
    "expect_H"
   ]
  },
  {
   "cell_type": "code",
   "execution_count": 98,
   "metadata": {},
   "outputs": [
    {
     "data": {
      "text/plain": [
       "[-18.0, -18.0, -18.0, [-18.0, -18.0, -18.0, -18.0]]"
      ]
     },
     "execution_count": 98,
     "metadata": {},
     "output_type": "execute_result"
    }
   ],
   "source": [
    "\n",
    "Expect_H_store\n"
   ]
  },
  {
   "cell_type": "code",
   "execution_count": null,
   "metadata": {},
   "outputs": [],
   "source": [
    "# for idx in range(len(taulist)-1):\n",
    "#     for n in range(len(P_mat[0,:])):\n",
    "#         lw = 0.5 + 4*P_mat[idx,n]    \n",
    "#         if lw > 0.5215:\n",
    "#             if evals_mat[idx+1,n] == -5.0:\n",
    "#                 print(array([evals_mat[idx,n], evals_mat[idx+1,n]]))"
   ]
  },
  {
   "cell_type": "code",
   "execution_count": null,
   "metadata": {
    "scrolled": true
   },
   "outputs": [],
   "source": [
    "# fig, axes = plt.subplots(2, 1, figsize=(12,10))\n",
    "\n",
    "# #\n",
    "# # plot the energy eigenvalues\n",
    "# #\n",
    "\n",
    "# # first draw thin lines outlining the energy spectrum\n",
    "# for n in range(len(evals_mat[0,:])):\n",
    "#     ls,lw = ('b',1) if n == 0 else ('k', 0.25)\n",
    "#     axes[0].plot(taulist/max(taulist), evals_mat[:,n], ls, lw=lw)\n",
    "\n",
    "# # # second, draw line that encode the occupation probability of each state in \n",
    "# # # its linewidth. thicker line => high occupation probability.\n",
    "# # for idx in range(len(taulist)-1):\n",
    "# #     for n in range(len(P_mat[0,:])):\n",
    "# #         lw = 0.5 + 4*P_mat[idx,n]    \n",
    "# #         if lw > 0.55:\n",
    "# #            axes[0].plot(array([taulist[idx], taulist[idx+1]])/taumax, \n",
    "# #                         array([evals_mat[idx,n], evals_mat[idx+1,n]]), \n",
    "# #                         'r', linewidth=lw)    \n",
    "        \n",
    "# axes[0].set_xlabel(r'$\\tau$')\n",
    "# axes[0].set_ylabel('Eigenenergies')\n",
    "# axes[0].set_title(\"Energyspectrum (%d lowest values) of a chain of %d spins.\\n \" % (M,N)\n",
    "#                 + \"The occupation probabilities are encoded in the red line widths.\")\n",
    "\n",
    "# #\n",
    "# # plot the occupation probabilities for the few lowest eigenstates\n",
    "# #\n",
    "# # for n in range(len(P_mat[0,:])):\n",
    "# #     if n == 0:\n",
    "# #         axes[1].plot(taulist/max(taulist), 0 + P_mat[:,n], 'r', linewidth=2)\n",
    "# #     else:\n",
    "# #         axes[1].plot(taulist/max(taulist), 0 + P_mat[:,n])\n",
    "\n",
    "# # axes[1].set_xlabel(r'$\\tau$')\n",
    "# # axes[1].set_ylabel('Occupation probability')\n",
    "# # axes[1].set_title(\"Occupation probability of the %d lowest \" % M +\n",
    "# #                   \"eigenstates for a chain of %d spins\" % N)\n",
    "# # axes[1].legend((\"Ground state\",));\n"
   ]
  },
  {
   "cell_type": "code",
   "execution_count": null,
   "metadata": {},
   "outputs": [],
   "source": []
  },
  {
   "cell_type": "code",
   "execution_count": null,
   "metadata": {},
   "outputs": [],
   "source": [
    "H0\n"
   ]
  },
  {
   "cell_type": "code",
   "execution_count": null,
   "metadata": {},
   "outputs": [],
   "source": [
    "psi_list"
   ]
  },
  {
   "cell_type": "code",
   "execution_count": null,
   "metadata": {},
   "outputs": [],
   "source": [
    "psi0"
   ]
  },
  {
   "cell_type": "code",
   "execution_count": null,
   "metadata": {},
   "outputs": [],
   "source": [
    "sz_list"
   ]
  },
  {
   "cell_type": "code",
   "execution_count": 116,
   "metadata": {},
   "outputs": [],
   "source": [
    "# Lanczos algorithm\n",
    "# initial iteration step\n",
    "\n",
    "k = 1000\n",
    "\n",
    "v0 = psi0.unit()\n",
    "\n",
    "w_prime = Hp * v0\n",
    "a0 = w_prime.dag() * v0\n",
    "w0 = w_prime - a0 * v0\n",
    "w_list = np.zeros((k),dtype = object)\n",
    "w_list[0] = w0\n",
    "\n",
    "b_list = np.zeros(k)\n",
    "a_list = np.zeros(k,dtype = object)\n",
    "a_list[0] = a0\n",
    "v_list = np.zeros((k),dtype = object)\n",
    "v_list[0] = v0\n"
   ]
  },
  {
   "cell_type": "code",
   "execution_count": 117,
   "metadata": {},
   "outputs": [],
   "source": [
    "# Lanczos algorithm\n",
    "\n",
    "def orthog(v):\n",
    "    '''Householder transformation'''\n",
    "#     Householder transformation\n",
    "    u, indices = unique(v, return_index = True)\n",
    "    ind = randint(0,max(v.shape)-1)\n",
    "    while ind == max(indices):\n",
    "        ind = randint(0,max(v.shape)-1)\n",
    "    v_prime = np.zeros(v.shape)\n",
    "    v_prime[ind] = 1.0\n",
    "    v_prime = Qobj(v_prime, dims = v.dims)\n",
    "    n = (v - v_prime).unit()\n",
    "    \n",
    "    P = si_list[0] - (2.0 * n * n.dag())\n",
    "    m = np.zeros(v.shape)\n",
    "    ind_m = randint(0,max(v.shape)-1)\n",
    "    while ind_m == ind:\n",
    "        ind_m = randint(0,max(v.shape)-1)\n",
    "    m[ind_m] = 1.0\n",
    "    m = Qobj(m, dims = v.dims)\n",
    "    return Qobj(P * m)\n",
    "\n",
    "def OutOrthog(v_list,j):\n",
    "    for v in v_list[0:j]:\n",
    "        output = orthog(v)\n",
    "        for w in v_list[0:j]:\n",
    "            if output.overlap(w) != 0:\n",
    "                break\n",
    "        else:\n",
    "            return output\n",
    "        \n",
    "\n",
    "for j in range(1,k):\n",
    "    b_list[j] = w_list[j-1].norm()\n",
    "    if b_list[j] != 0:\n",
    "        v_list[j] = Qobj((w_list[j-1] / b_list[j]),dims = v0.dims)\n",
    "#         print(\"one\")\n",
    "    else:\n",
    "        v_list[j] = OutOrthog(v_list,j)\n",
    "#         print(\"two\")\n",
    "    w_prime = Qobj((Hp * v_list[j]),dims = (Hp * v0).dims)\n",
    "    a_list[j] = w_prime.dag() * v_list[j]\n",
    "    w_list[j] = Qobj(w_prime - (a_list[j] * v_list[j])) - (b_list[j] * v_list[j-1])\n",
    "    \n",
    "\n"
   ]
  },
  {
   "cell_type": "code",
   "execution_count": 118,
   "metadata": {},
   "outputs": [],
   "source": [
    "for j in range(len(a_list)):\n",
    "    a_list[j] = real(a_list[j].full()).item()\n",
    "    b_list[j] = real(b_list[j])\n",
    "T = diagflat(a_list) + diagflat(b_list[1:len(b_list)],1) + diagflat(b_list[1:len(b_list)],-1)"
   ]
  },
  {
   "cell_type": "code",
   "execution_count": 119,
   "metadata": {
    "scrolled": true
   },
   "outputs": [
    {
     "name": "stdout",
     "output_type": "stream",
     "text": [
      "[-5.0 -5.0 -5.0 -5.0 -3.0 -3.0 -3.0 -1.0 -1.0 -1.0 -1.0 -1.0 -1.0 -1.0\n",
      " -1.0 -1.0 -1.0 -1.0 -1.0 -1.0 -1.0 -1.0 -1.0 -1.0 -1.0 -1.0 -1.0 -1.0\n",
      " -1.0 1.0 1.0 1.0 1.0 1.0 1.0 1.0 1.0 1.0 1.0 1.0 1.0 1.0 1.0 1.0 1.0 1.0\n",
      " 1.0 1.0 1.0 1.0 1.0 3.0 3.0 3.0 3.0 3.0 3.0 3.0 3.0 3.0 3.0 3.0 3.0 3.0\n",
      " 3.0 3.0 3.0 3.0 3.0 3.0 3.0 3.0 3.0 3.0 3.0 3.0 3.0 3.0 3.0 3.0 3.0 5.0\n",
      " 5.0 5.0 5.0 5.0 5.0 5.0 5.0 5.0 5.0 5.0 5.0 5.0 5.0 5.0 5.0 5.0 5.0 5.0\n",
      " 5.0 5.0 5.0 5.0 5.0 5.0 5.0 5.0 5.0 5.0 5.0 5.0 5.0 5.0 5.0 5.0 5.0 5.0\n",
      " 5.0 5.0 5.0 5.0 5.0 5.0 5.0 5.0 5.0 5.0 5.0 5.0 5.0 5.0 5.0 5.0 5.0 5.0\n",
      " 5.0 5.0 5.0 5.0 5.0 5.0 5.0 5.0 5.0 5.0 5.0 5.0 5.0 7.0 7.0 7.0 7.0 7.0\n",
      " 7.0 7.0 7.0 7.0 7.0 7.0 7.0 7.0 7.0 7.0 7.0 7.0 7.0 7.0 7.0 7.0 7.0 7.0\n",
      " 7.0 7.0 7.0 7.0 7.0 7.0 7.0 7.0 7.0 7.0 7.0 7.0 7.0 7.0 7.0 7.0 7.0 7.0\n",
      " 7.0 7.0 7.0 7.0 7.0 7.0 7.0 7.0 7.0 7.0 7.0 7.0 7.0 7.0 7.0 7.0 7.0 7.0\n",
      " 7.0 7.0 7.0 7.0 7.0 7.0 7.0 7.0 7.0 7.0 7.0 7.0 7.0 7.0 7.0 7.0 7.0 7.0\n",
      " 7.0 7.0 7.0 7.0 9.0 9.0 9.0 9.0 9.0 9.0 9.0 9.0 9.0 9.0 9.0 9.0 9.0 9.0\n",
      " 9.0 9.0 9.0 9.0 9.0 9.0 9.0 9.0 9.0 9.0 9.0 9.0 9.0 9.0 9.0 9.0 9.0 9.0\n",
      " 9.0 9.0 9.0 9.0 9.0 9.0 9.0 9.0 9.0 9.0 9.0 9.0 9.0 9.0 9.0 9.0 9.0 9.0\n",
      " 9.0 9.0 9.0 9.0 9.0 9.0 9.0 9.0 9.0 9.0 9.0 9.0 9.0 9.0 9.0 9.0 9.0 9.0\n",
      " 9.0 9.0 9.0 9.0 9.0 9.0 9.0 9.0 9.0 9.0 9.0 9.0 9.0 9.0 9.0 9.0 9.0 9.0\n",
      " 9.0 9.0 9.0 9.0 9.0 11.0 11.0 11.0 11.0 11.0 11.0 11.0 11.0 11.0 11.0\n",
      " 11.0 11.0 11.0 11.0 11.0 11.0 11.0 11.0 11.0 11.0 11.0 11.0 11.0 11.0\n",
      " 11.0 11.0 11.0 11.0 11.0 11.0 11.0 11.0 11.0 11.0 11.0 11.0 11.0 11.0\n",
      " 11.0 11.0 11.0 11.0 11.0 11.0 11.0 11.0 11.0 11.0 11.0 11.0 11.0 11.0\n",
      " 11.0 11.0 11.0 11.0 11.0 11.0 11.0 11.0 11.0 11.0 11.0 11.0 11.0 11.0\n",
      " 11.0 11.0 11.0 11.0 13.0 13.0 13.0 13.0 13.0 13.0 13.0 13.0 13.0 13.0\n",
      " 13.0 13.0 13.0 13.0 13.0 13.0 13.0 13.0 13.0 13.0 13.0 13.0 13.0 13.0\n",
      " 13.0 13.0 13.0 13.0 13.0 13.0 13.0 13.0 13.0 13.0 13.0 13.0 13.0 13.0\n",
      " 13.0 13.0 13.0 13.0 13.0 13.0 13.0 13.0 13.0 13.0 13.0 13.0 13.0 13.0\n",
      " 13.0 13.0 13.0 13.0 13.0 13.0 13.0 13.0 13.0 15.0 15.0 15.0 15.0 15.0\n",
      " 15.0 15.0 15.0 15.0 15.0 15.0 15.0 15.0 15.0 15.0 15.0 15.0 15.0 15.0\n",
      " 15.0 15.0 15.0 15.0 15.0 15.0 15.0 15.0 15.0 15.0 15.0 15.0 15.0 15.0\n",
      " 15.0 15.0 15.0 15.0 15.0 15.0 15.0 15.0 15.0 15.0 15.0 15.0 15.0 15.0\n",
      " 15.0 15.0 15.0 15.0 15.0 15.0 15.0 15.0 15.0 15.0 15.0 15.0 15.0 15.0\n",
      " 15.0 15.0 15.0 15.0 15.0 15.0 15.0 15.0 15.0 15.0 15.0 15.0 15.0 15.0\n",
      " 15.0 15.0 15.0 15.0 15.0 15.0 15.0 15.0 15.0 15.0 15.0 15.0 15.0 15.0\n",
      " 15.0 15.0 15.0 15.0 15.0 15.0 15.0 15.0 15.0 15.0 15.0 15.0 15.0 15.0\n",
      " 15.0 15.0 15.0 15.0 15.0 15.0 15.0 15.0 15.0 15.0 15.0 15.0 15.0 15.0\n",
      " 15.0 15.0 15.0 15.0 15.0 17.0 17.0 17.0 17.0 17.0 17.0 17.0 17.0 17.0\n",
      " 17.0 17.0 17.0 17.0 17.0 17.0 17.0 17.0 17.0 17.0 17.0 17.0 17.0 17.0\n",
      " 17.0 17.0 17.0 17.0 17.0 17.0 17.0 17.0 17.0 17.0 17.0 17.0 17.0 17.0\n",
      " 17.0 17.0 17.0 17.0 17.0 17.0 17.0 17.0 17.0 17.0 17.0 17.0 17.0 17.0\n",
      " 17.0 17.0 17.0 19.0 19.0 19.0 19.0 19.0 19.0 19.0 19.0 19.0 19.0 19.0\n",
      " 19.0 19.0 19.0 19.0 19.0 19.0 19.0 19.0 19.0 19.0 19.0 19.0 19.0 19.0\n",
      " 19.0 19.0 19.0 19.0 19.0 19.0 19.0 19.0 19.0 19.0 19.0 19.0 19.0 19.0\n",
      " 19.0 19.0 19.0 19.0 19.0 19.0 19.0 19.0 19.0 19.0 19.0 21.0 21.0 21.0\n",
      " 21.0 21.0 21.0 21.0 21.0 21.0 21.0 21.0 21.0 21.0 21.0 21.0 21.0 21.0\n",
      " 21.0 21.0 21.0 21.0 21.0 21.0 21.0 21.0 21.0 21.0 21.0 21.0 21.0 21.0\n",
      " 21.0 21.0 21.0 21.0 21.0 21.0 21.0 21.0 21.0 21.0 21.0 21.0 21.0 21.0\n",
      " 21.0 21.0 21.0 21.0 21.0 21.0 21.0 21.0 21.0 21.0 21.0 21.0 21.0 21.0\n",
      " 21.0 21.0 21.0 21.0 21.0 21.0 21.0 21.0 21.0 21.0 21.0 23.0 23.0 23.0\n",
      " 23.0 23.0 23.0 23.0 23.0 23.0 23.0 23.0 23.0 23.0 23.0 23.0 23.0 23.0\n",
      " 23.0 23.0 23.0 23.0 23.0 23.0 23.0 23.0 23.0 23.0 23.0 23.0 23.0 23.0\n",
      " 23.0 23.0 23.0 23.0 23.0 23.0 23.0 23.0 23.0 23.0 23.0 23.0 23.0 23.0\n",
      " 23.0 23.0 23.0 23.0 23.0 23.0 23.0 23.0 23.0 23.0 23.0 23.0 23.0 23.0\n",
      " 25.0 25.0 25.0 25.0 25.0 25.0 25.0 25.0 25.0 25.0 25.0 25.0 25.0 25.0\n",
      " 25.0 25.0 25.0 25.0 25.0 25.0 25.0 25.0 25.0 25.0 25.0 25.0 25.0 25.0\n",
      " 25.0 25.0 25.0 25.0 25.0 25.0 25.0 25.0 25.0 25.0 25.0 25.0 25.0 25.0\n",
      " 25.0 25.0 25.0 25.0 25.0 25.0 25.0 25.0 25.0 25.0 27.0 27.0 27.0 27.0\n",
      " 27.0 27.0 27.0 27.0 27.0 27.0 27.0 27.0 27.0 27.0 27.0 27.0 27.0 27.0\n",
      " 27.0 27.0 27.0 27.0 27.0 29.0 29.0 29.0 29.0 29.0 29.0 29.0 29.0 29.0\n",
      " 29.0 29.0 29.0 29.0 29.0 29.0 29.0 29.0 29.0 29.0 29.0 29.0 29.0 29.0\n",
      " 31.0 31.0 31.0 31.0 31.0 31.0 31.0 31.0 31.0 31.0 31.0 31.0 31.0 31.0\n",
      " 31.0 31.0 31.0 31.0 31.0 31.0 33.0 33.0 33.0 33.0 33.0 33.0 33.0 33.0\n",
      " 33.0 33.0 35.0 35.0 35.0 35.0 35.0 35.0 37.0 37.0 37.0 37.0 37.0 37.0\n",
      " 37.0 37.0 37.0 37.0 37.0 37.0 37.0 39.0 39.0 39.0 39.0 39.0 39.0 39.0\n",
      " 39.0 39.0 39.0 39.0 41.0 41.0 41.0 41.0 41.0 41.0 41.0 41.0 41.0 41.0\n",
      " 41.0 43.0 45.0 45.0 45.0 45.0 45.0 45.0 45.0 45.0 45.0 47.0 49.0 49.0\n",
      " 49.0 49.0 49.0 51.0 51.0 51.0 55.0 55.0 55.0 61.0 61.0]\n"
     ]
    }
   ],
   "source": [
    "print(sort(a_list))"
   ]
  },
  {
   "cell_type": "markdown",
   "metadata": {},
   "source": []
  }
 ],
 "metadata": {
  "kernelspec": {
   "display_name": "Python 3",
   "language": "python",
   "name": "python3"
  },
  "language_info": {
   "codemirror_mode": {
    "name": "ipython",
    "version": 3
   },
   "file_extension": ".py",
   "mimetype": "text/x-python",
   "name": "python",
   "nbconvert_exporter": "python",
   "pygments_lexer": "ipython3",
   "version": "3.7.3"
  }
 },
 "nbformat": 4,
 "nbformat_minor": 2
}
