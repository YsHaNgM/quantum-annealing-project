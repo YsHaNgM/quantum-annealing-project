{
 "cells": [
  {
   "cell_type": "code",
   "execution_count": 1,
   "metadata": {},
   "outputs": [],
   "source": [
    "# import resource\n",
    "# import sys\n",
    "# import threading\n",
    "\n",
    "from qutip import *\n",
    "from scipy import *\n",
    "from random import *\n",
    "import numpy as np\n",
    "import matplotlib.pyplot as plt\n",
    "\n",
    "# resource.setrlimit(resource.RLIMIT_STACK, (resource.RLIM_INFINITY, resource.RLIM_INFINITY))\n",
    "# sys.setrecursionlimit(10**6)\n",
    "# threading.stack_size(0x2000000)\n",
    "\n",
    "\n",
    "\n",
    "# target_procs = 10240\n",
    "# cur_proc, max_proc = resource.getrlimit(resource.RLIMIT_NPROC)\n",
    "# target_proc = min(max_proc, target_procs)\n",
    "# resource.setrlimit(resource.RLIMIT_NPROC, (max(cur_proc, target_proc), max_proc))\n",
    "# cur_hdls, max_hdls = resource.getrlimit(resource.RLIMIT_NOFILE)\n",
    "# target_hdls = min(max_hdls, target_procs)\n",
    "# resource.setrlimit(resource.RLIMIT_NOFILE, (max(cur_hdls, target_hdls), max_hdls))\n",
    "\n",
    "N = 12\n",
    "M=6\n",
    "# vertex numbr\n",
    "#S E W N stands for countries of UK\n",
    "V = 4\n",
    "# colour number\n",
    "C = 3\n",
    "\n",
    "#edges matrix\n",
    "E = [[1,1,1,1],[1,1,1,1],[1,1,1,1],[1,1,1,1]]\n",
    "E = np.array(E)\n",
    "\n",
    "\n",
    "h  = 1.0 *np.ones(V) #1.0 * 2 * pi * (1 - 2 * np.ones(N))\n",
    "Jz = 2 * np.ones(N) #abs(1.0 * 2 * pi * (1 - 2 * rand(N)))\n",
    "Jx = 1.0 * 2 * pi * (1 - 2 * rand(N))\n",
    "\n",
    "# Jy = 1.0 * 2 * pi * (1 - 2 * rand(N))\n",
    "\n",
    "taumax = 100.0\n",
    "taulist = np.linspace(0, taumax, 10)\n",
    "\n",
    "si = qeye(2)\n",
    "sx = sigmax()\n",
    "sz = sigmaz()\n",
    "# sy = sigmay()\n",
    "\n",
    "si_list = []\n",
    "sx_list = []\n",
    "sz_list = []\n",
    "# sy_list = []\n",
    "\n",
    "for n in range(N):\n",
    "    op_list = []\n",
    "    for m in range(N):\n",
    "        op_list.append(si)\n",
    "        \n",
    "\n",
    "    op_list[n] = sx\n",
    "    sx_list.append(tensor(op_list))\n",
    "    \n",
    "    op_list[n] = sz\n",
    "    sz_list.append(tensor(op_list))\n",
    "    \n",
    "    op_list[n] = si\n",
    "    si_list.append(tensor(op_list))\n",
    "    \n",
    "#     op_list[n] = sy\n",
    "#     sy_list.append(tensor(op_list))\n",
    "\n",
    "# basis(0) for |-1| spin down 1 for |+1| spin up\n",
    "\n",
    "# x(0) for sz |-1| spin down x(1) for sz |+1| spin up\n",
    "# x = (sz+1)/2   sz=(-1) => x=0 sz=(+1) => x=1\n",
    "\n",
    "psi_list = [basis(2,0),basis(2,0),basis(2,1),basis(2,0),basis(2,1),basis(2,0),basis(2,0),basis(2,1),basis(2,0),basis(2,1),basis(2,0),basis(2,0)]\n",
    "# for n in range(N):\n",
    "#     psi_list.append(basis(2,randrange(1)))\n",
    "# psi_list = [basis(2,0) for n in range(N)]\n",
    "psi0 = tensor(psi_list)\n",
    "#H0 transverse term\n",
    "H0 = 0    \n",
    "for n in range(N):\n",
    "    H0 += - 0.5 * 2.5 * sx_list[n]\n",
    "    \n",
    "    \n",
    "#Hp problem term\n",
    "Hp = 0   \n",
    "vertex_sum = 0\n",
    "for v in range(V):\n",
    "    colour_sum = 0\n",
    "    for c in range(C):\n",
    "        colour_sum += sz_list[c+v*C]\n",
    "    vertex_sum += ( sz_list[0] - colour_sum)**2\n",
    "Hp += h[v] * vertex_sum\n",
    "# for n in range(N):\n",
    "#     Hp += h[n] * sz_list[n]\n",
    "\n"
   ]
  },
  {
   "cell_type": "code",
   "execution_count": 2,
   "metadata": {},
   "outputs": [
    {
     "data": {
      "text/latex": [
       "Quantum object: dims = [[2, 2, 2, 2, 2, 2, 2, 2, 2, 2, 2, 2], [2, 2, 2, 2, 2, 2, 2, 2, 2, 2, 2, 2]], shape = (4096, 4096), type = oper, isherm = True\\begin{equation*}\\left(\\begin{array}{*{11}c}16.0 & 0.0 & 0.0 & 0.0 & 0.0 & \\cdots & 0.0 & 0.0 & 0.0 & 0.0 & 0.0\\\\0.0 & 12.0 & 0.0 & 0.0 & 0.0 & \\cdots & 0.0 & 0.0 & 0.0 & 0.0 & 0.0\\\\0.0 & 0.0 & 12.0 & 0.0 & 0.0 & \\cdots & 0.0 & 0.0 & 0.0 & 0.0 & 0.0\\\\0.0 & 0.0 & 0.0 & 16.0 & 0.0 & \\cdots & 0.0 & 0.0 & 0.0 & 0.0 & 0.0\\\\0.0 & 0.0 & 0.0 & 0.0 & 12.0 & \\cdots & 0.0 & 0.0 & 0.0 & 0.0 & 0.0\\\\\\vdots & \\vdots & \\vdots & \\vdots & \\vdots & \\ddots & \\vdots & \\vdots & \\vdots & \\vdots & \\vdots\\\\0.0 & 0.0 & 0.0 & 0.0 & 0.0 & \\cdots & 12.0 & 0.0 & 0.0 & 0.0 & 0.0\\\\0.0 & 0.0 & 0.0 & 0.0 & 0.0 & \\cdots & 0.0 & 16.0 & 0.0 & 0.0 & 0.0\\\\0.0 & 0.0 & 0.0 & 0.0 & 0.0 & \\cdots & 0.0 & 0.0 & 12.0 & 0.0 & 0.0\\\\0.0 & 0.0 & 0.0 & 0.0 & 0.0 & \\cdots & 0.0 & 0.0 & 0.0 & 12.0 & 0.0\\\\0.0 & 0.0 & 0.0 & 0.0 & 0.0 & \\cdots & 0.0 & 0.0 & 0.0 & 0.0 & 16.0\\\\\\end{array}\\right)\\end{equation*}"
      ],
      "text/plain": [
       "Quantum object: dims = [[2, 2, 2, 2, 2, 2, 2, 2, 2, 2, 2, 2], [2, 2, 2, 2, 2, 2, 2, 2, 2, 2, 2, 2]], shape = (4096, 4096), type = oper, isherm = True\n",
       "Qobj data =\n",
       "[[16.  0.  0. ...  0.  0.  0.]\n",
       " [ 0. 12.  0. ...  0.  0.  0.]\n",
       " [ 0.  0. 12. ...  0.  0.  0.]\n",
       " ...\n",
       " [ 0.  0.  0. ... 12.  0.  0.]\n",
       " [ 0.  0.  0. ...  0. 12.  0.]\n",
       " [ 0.  0.  0. ...  0.  0. 16.]]"
      ]
     },
     "execution_count": 2,
     "metadata": {},
     "output_type": "execute_result"
    }
   ],
   "source": [
    "vertex_sum"
   ]
  },
  {
   "cell_type": "code",
   "execution_count": 3,
   "metadata": {
    "scrolled": false
   },
   "outputs": [
    {
     "data": {
      "text/latex": [
       "Quantum object: dims = [[2, 2, 2, 2, 2, 2, 2, 2, 2, 2, 2, 2], [2, 2, 2, 2, 2, 2, 2, 2, 2, 2, 2, 2]], shape = (4096, 4096), type = oper, isherm = True\\begin{equation*}\\left(\\begin{array}{*{11}c}16.0 & 0.0 & 0.0 & 0.0 & 0.0 & \\cdots & 0.0 & 0.0 & 0.0 & 0.0 & 0.0\\\\0.0 & 12.0 & 0.0 & 0.0 & 0.0 & \\cdots & 0.0 & 0.0 & 0.0 & 0.0 & 0.0\\\\0.0 & 0.0 & 12.0 & 0.0 & 0.0 & \\cdots & 0.0 & 0.0 & 0.0 & 0.0 & 0.0\\\\0.0 & 0.0 & 0.0 & 16.0 & 0.0 & \\cdots & 0.0 & 0.0 & 0.0 & 0.0 & 0.0\\\\0.0 & 0.0 & 0.0 & 0.0 & 12.0 & \\cdots & 0.0 & 0.0 & 0.0 & 0.0 & 0.0\\\\\\vdots & \\vdots & \\vdots & \\vdots & \\vdots & \\ddots & \\vdots & \\vdots & \\vdots & \\vdots & \\vdots\\\\0.0 & 0.0 & 0.0 & 0.0 & 0.0 & \\cdots & 12.0 & 0.0 & 0.0 & 0.0 & 0.0\\\\0.0 & 0.0 & 0.0 & 0.0 & 0.0 & \\cdots & 0.0 & 16.0 & 0.0 & 0.0 & 0.0\\\\0.0 & 0.0 & 0.0 & 0.0 & 0.0 & \\cdots & 0.0 & 0.0 & 12.0 & 0.0 & 0.0\\\\0.0 & 0.0 & 0.0 & 0.0 & 0.0 & \\cdots & 0.0 & 0.0 & 0.0 & 12.0 & 0.0\\\\0.0 & 0.0 & 0.0 & 0.0 & 0.0 & \\cdots & 0.0 & 0.0 & 0.0 & 0.0 & 16.0\\\\\\end{array}\\right)\\end{equation*}"
      ],
      "text/plain": [
       "Quantum object: dims = [[2, 2, 2, 2, 2, 2, 2, 2, 2, 2, 2, 2], [2, 2, 2, 2, 2, 2, 2, 2, 2, 2, 2, 2]], shape = (4096, 4096), type = oper, isherm = True\n",
       "Qobj data =\n",
       "[[16.  0.  0. ...  0.  0.  0.]\n",
       " [ 0. 12.  0. ...  0.  0.  0.]\n",
       " [ 0.  0. 12. ...  0.  0.  0.]\n",
       " ...\n",
       " [ 0.  0.  0. ... 12.  0.  0.]\n",
       " [ 0.  0.  0. ...  0. 12.  0.]\n",
       " [ 0.  0.  0. ...  0.  0. 16.]]"
      ]
     },
     "execution_count": 3,
     "metadata": {},
     "output_type": "execute_result"
    }
   ],
   "source": [
    "Hp"
   ]
  },
  {
   "cell_type": "code",
   "execution_count": 4,
   "metadata": {},
   "outputs": [],
   "source": [
    "\n",
    "\n",
    "for v in range(V):\n",
    "    # interaction terms\n",
    "    vertex_sum = 0\n",
    "    for v1 in range(v+1,V):\n",
    "        \n",
    "        colour_sum = 0\n",
    "        for c in range(C):\n",
    "            colour_sum += sz_list[c+v*C] * sz_list[c+v1*C]\n",
    "        vertex_sum += np.triu(E)[v][v1] * colour_sum\n",
    "    Hp += h[v] * vertex_sum\n",
    "#     Hp += Jz[n] * sz_list[n] * sz_list[(n+1)]\n",
    "#     H1 += - 0.5 * Jy[n] * sy_list[n] * sy_list[n+1]"
   ]
  },
  {
   "cell_type": "code",
   "execution_count": 5,
   "metadata": {},
   "outputs": [
    {
     "data": {
      "text/plain": [
       "[[2, 2, 2, 2, 2, 2, 2, 2, 2, 2, 2, 2], [2, 2, 2, 2, 2, 2, 2, 2, 2, 2, 2, 2]]"
      ]
     },
     "execution_count": 5,
     "metadata": {},
     "output_type": "execute_result"
    }
   ],
   "source": [
    "Hp.dims"
   ]
  },
  {
   "cell_type": "code",
   "execution_count": 6,
   "metadata": {},
   "outputs": [
    {
     "data": {
      "text/plain": [
       "[[2, 2, 2, 2, 2, 2, 2, 2, 2, 2, 2, 2], [2, 2, 2, 2, 2, 2, 2, 2, 2, 2, 2, 2]]"
      ]
     },
     "execution_count": 6,
     "metadata": {},
     "output_type": "execute_result"
    }
   ],
   "source": [
    "H0.dims"
   ]
  },
  {
   "cell_type": "code",
   "execution_count": null,
   "metadata": {},
   "outputs": [],
   "source": [
    "\n",
    "\n",
    "# the time-dependent hamiltonian in list-function format\n",
    "args = {'t_max': max(taulist)}\n",
    "\n",
    "h_t = [[H0, lambda t, args : (args['t_max']-t)/args['t_max']],\n",
    "       [Hp, lambda t, args : t/args['t_max']]]\n",
    "\n",
    "evals_mat = np.zeros((len(taulist),M))\n",
    "P_mat = np.zeros((len(taulist),M))\n",
    "\n",
    "idx = [0]\n",
    "def process_rho(tau, psi):\n",
    "  \n",
    "    # evaluate the Hamiltonian with gradually switched on interaction \n",
    "    H = Qobj.evaluate(h_t, tau, args)\n",
    "\n",
    "    # find the M lowest eigenvalues of the system\n",
    "    evals, ekets = H.eigenstates(eigvals=M)\n",
    "\n",
    "    evals_mat[idx[0],:] = real(evals)\n",
    "    \n",
    "    # find the overlap between the eigenstates and psi \n",
    "    for n, eket in enumerate(ekets):\n",
    "        P_mat[idx[0],n] = abs((eket.dag().data * psi.data)[0,0])**2    \n",
    "        \n",
    "    idx[0] += 1\n",
    "    \n",
    "\n",
    "sesolve(h_t, psi0, taulist, process_rho, args, _safe_mode=True)"
   ]
  },
  {
   "cell_type": "code",
   "execution_count": null,
   "metadata": {},
   "outputs": [],
   "source": [
    "\n",
    "\n",
    "Jz\n"
   ]
  },
  {
   "cell_type": "code",
   "execution_count": null,
   "metadata": {
    "scrolled": true
   },
   "outputs": [],
   "source": [
    "fig, axes = plt.subplots(2, 1, figsize=(12,10))\n",
    "\n",
    "#\n",
    "# plot the energy eigenvalues\n",
    "#\n",
    "\n",
    "# first draw thin lines outlining the energy spectrum\n",
    "for n in range(len(evals_mat[0,:])):\n",
    "    ls,lw = ('b',1) if n == 0 else ('k', 0.25)\n",
    "    axes[0].plot(taulist/max(taulist), evals_mat[:,n] / (2*pi), ls, lw=lw)\n",
    "\n",
    "# second, draw line that encode the occupation probability of each state in \n",
    "# its linewidth. thicker line => high occupation probability.\n",
    "for idx in range(len(taulist)-1):\n",
    "    for n in range(len(P_mat[0,:])):\n",
    "        lw = 0.5 + 4*P_mat[idx,n]    \n",
    "        if lw > 0.55:\n",
    "           axes[0].plot(array([taulist[idx], taulist[idx+1]])/taumax, \n",
    "                        array([evals_mat[idx,n], evals_mat[idx+1,n]])/(2*pi), \n",
    "                        'r', linewidth=lw)    \n",
    "        \n",
    "axes[0].set_xlabel(r'$\\tau$')\n",
    "axes[0].set_ylabel('Eigenenergies')\n",
    "axes[0].set_title(\"Energyspectrum (%d lowest values) of a chain of %d spins.\\n \" % (M,N)\n",
    "                + \"The occupation probabilities are encoded in the red line widths.\")\n",
    "\n",
    "#\n",
    "# plot the occupation probabilities for the few lowest eigenstates\n",
    "#\n",
    "for n in range(len(P_mat[0,:])):\n",
    "    if n == 0:\n",
    "        axes[1].plot(taulist/max(taulist), 0 + P_mat[:,n], 'r', linewidth=2)\n",
    "    else:\n",
    "        axes[1].plot(taulist/max(taulist), 0 + P_mat[:,n])\n",
    "\n",
    "axes[1].set_xlabel(r'$\\tau$')\n",
    "axes[1].set_ylabel('Occupation probability')\n",
    "axes[1].set_title(\"Occupation probability of the %d lowest \" % M +\n",
    "                  \"eigenstates for a chain of %d spins\" % N)\n",
    "axes[1].legend((\"Ground state\",));\n"
   ]
  },
  {
   "cell_type": "code",
   "execution_count": null,
   "metadata": {},
   "outputs": [],
   "source": []
  },
  {
   "cell_type": "code",
   "execution_count": null,
   "metadata": {},
   "outputs": [],
   "source": [
    "H0\n"
   ]
  },
  {
   "cell_type": "code",
   "execution_count": null,
   "metadata": {},
   "outputs": [],
   "source": [
    "psi_list"
   ]
  },
  {
   "cell_type": "code",
   "execution_count": null,
   "metadata": {},
   "outputs": [],
   "source": [
    "psi0"
   ]
  },
  {
   "cell_type": "code",
   "execution_count": null,
   "metadata": {},
   "outputs": [],
   "source": [
    "sz_list"
   ]
  },
  {
   "cell_type": "code",
   "execution_count": null,
   "metadata": {},
   "outputs": [],
   "source": [
    "\n"
   ]
  },
  {
   "cell_type": "code",
   "execution_count": null,
   "metadata": {},
   "outputs": [],
   "source": []
  },
  {
   "cell_type": "code",
   "execution_count": null,
   "metadata": {},
   "outputs": [],
   "source": []
  },
  {
   "cell_type": "code",
   "execution_count": null,
   "metadata": {},
   "outputs": [],
   "source": [
    "h_t"
   ]
  },
  {
   "cell_type": "code",
   "execution_count": null,
   "metadata": {},
   "outputs": [],
   "source": [
    "list(range(3,6))"
   ]
  },
  {
   "cell_type": "code",
   "execution_count": null,
   "metadata": {},
   "outputs": [],
   "source": []
  },
  {
   "cell_type": "code",
   "execution_count": null,
   "metadata": {},
   "outputs": [],
   "source": []
  },
  {
   "cell_type": "markdown",
   "metadata": {},
   "source": [
    "#### "
   ]
  }
 ],
 "metadata": {
  "kernelspec": {
   "display_name": "Python 3",
   "language": "python",
   "name": "python3"
  },
  "language_info": {
   "codemirror_mode": {
    "name": "ipython",
    "version": 3
   },
   "file_extension": ".py",
   "mimetype": "text/x-python",
   "name": "python",
   "nbconvert_exporter": "python",
   "pygments_lexer": "ipython3",
   "version": "3.7.4"
  }
 },
 "nbformat": 4,
 "nbformat_minor": 2
}
