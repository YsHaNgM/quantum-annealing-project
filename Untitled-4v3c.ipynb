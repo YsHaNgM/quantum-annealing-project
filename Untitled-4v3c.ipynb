{
 "cells": [
  {
   "cell_type": "code",
   "execution_count": 1,
   "metadata": {
    "scrolled": true
   },
   "outputs": [],
   "source": [
    "from qutip import *\n",
    "from scipy import *\n",
    "from random import *\n",
    "\n",
    "import numpy as np\n",
    "import matplotlib.pyplot as plt\n",
    "\n",
    "\n",
    "N = 12\n",
    "M = 4096\n",
    "# vertex numbr\n",
    "#S E W N stands for countries of UK\n",
    "V = 4\n",
    "# colour number\n",
    "C = 3\n",
    "\n",
    "#edges matrix\n",
    "E = [[1,1,0,1],[1,1,1,1],[0,1,1,1],[1,1,1,1]]\n",
    "# E = [[1,1,1,1],[1,1,1,1],[1,1,1,1],[1,1,1,1]]\n",
    "\n",
    "E = np.array(E)\n",
    "\n",
    "taumax = 100.0\n",
    "taulist = np.linspace(0, taumax, 100)\n",
    "\n",
    "\n",
    "\n",
    "\n",
    "h  = 1.0\n",
    "Jz = 1.0\n",
    "Jx = 2.0\n",
    "\n",
    "\n",
    "si = qeye(2)\n",
    "sx = sigmax()\n",
    "sz = sigmaz()\n",
    "\n",
    "# sy = sigmay()\n",
    "\n",
    "si_list = []\n",
    "sx_list = []\n",
    "sz_list = []\n",
    "\n",
    "# sy_list = []\n",
    "\n",
    "for n in range(N):\n",
    "    op_list = []\n",
    "    for m in range(N):\n",
    "        op_list.append(si)\n",
    "        \n",
    "\n",
    "    op_list[n] = sx\n",
    "    sx_list.append(tensor(op_list))\n",
    "    \n",
    "    op_list[n] = sz\n",
    "    sz_list.append(tensor(op_list))\n",
    "    \n",
    "    op_list[n] = si\n",
    "    si_list.append(tensor(op_list))\n",
    "\n",
    "# basis(0) for |-1| spin down 1 for |+1| spin up\n",
    "\n",
    "# x(0) for sz |-1| spin down x(1) for sz |+1| spin up\n",
    "# x = (sz+1)/2   sz=(-1) => x=0 sz=(+1) => x=1\n",
    "\n",
    "# psi_list = [basis(2,0),basis(2,0),basis(2,1),basis(2,0),basis(2,1),basis(2,0),basis(2,0),basis(2,0),basis(2,1),basis(2,1),basis(2,0),basis(2,0),basis(2,1),basis(2,0),basis(2,0)]\n",
    "\n",
    "# for n in range(N):\n",
    "#     psi_list.append(basis(2,randrange(1)))\n",
    "# psi_list = [basis(2,0) for n in range(N)]\n",
    "\n",
    "#H0 transverse term\n",
    "H0 = 0    \n",
    "for n in range(N):\n",
    "    H0 += Jx * sx_list[n]\n",
    "    \n",
    "\n",
    "ev, es = H0.eigenstates(eigvals=M)\n",
    "psi_list = es[0]\n",
    "psi0 = tensor(psi_list)\n",
    "\n",
    "\n",
    "\n",
    "#Hp problem term\n",
    "Hp = 0   \n",
    "vertex_sum = 0\n",
    "for v in range(V):\n",
    "    \n",
    "    colour_sum = 0\n",
    "    \n",
    "    for c in range(C):\n",
    "        colour_sum = colour_sum + sz_list[c+v*C]\n",
    "    vertex_sum += (si_list[0] - colour_sum)**2\n",
    "Hp += h * vertex_sum\n",
    "# for n in range(N):\n",
    "#     Hp += h[n] * sz_list[n]\n",
    "\n",
    "\n"
   ]
  },
  {
   "cell_type": "code",
   "execution_count": 2,
   "metadata": {},
   "outputs": [],
   "source": [
    "\n",
    "colour_sum = 0\n",
    "for c in range(C):\n",
    "    # interaction terms\n",
    "    for v in range(V):\n",
    "        for v1 in range(v+1,V):\n",
    "            colour_sum += np.triu(E)[v][v1] * sz_list[c+v*C] * sz_list[c+v1*C]\n",
    "Hp += Jz * colour_sum\n",
    "\n"
   ]
  },
  {
   "cell_type": "code",
   "execution_count": 3,
   "metadata": {},
   "outputs": [
    {
     "data": {
      "text/plain": [
       "[[2, 2, 2, 2, 2, 2, 2, 2, 2, 2, 2, 2], [2, 2, 2, 2, 2, 2, 2, 2, 2, 2, 2, 2]]"
      ]
     },
     "execution_count": 3,
     "metadata": {},
     "output_type": "execute_result"
    }
   ],
   "source": [
    "Hp.dims"
   ]
  },
  {
   "cell_type": "code",
   "execution_count": 4,
   "metadata": {},
   "outputs": [
    {
     "data": {
      "text/plain": [
       "[[2, 2, 2, 2, 2, 2, 2, 2, 2, 2, 2, 2], [2, 2, 2, 2, 2, 2, 2, 2, 2, 2, 2, 2]]"
      ]
     },
     "execution_count": 4,
     "metadata": {},
     "output_type": "execute_result"
    }
   ],
   "source": [
    "H0.dims"
   ]
  },
  {
   "cell_type": "code",
   "execution_count": 5,
   "metadata": {},
   "outputs": [
    {
     "ename": "KeyboardInterrupt",
     "evalue": "",
     "output_type": "error",
     "traceback": [
      "\u001b[0;31m---------------------------------------------------------------------------\u001b[0m",
      "\u001b[0;31mKeyboardInterrupt\u001b[0m                         Traceback (most recent call last)",
      "\u001b[0;32m<ipython-input-5-bcf2bcc06153>\u001b[0m in \u001b[0;36m<module>\u001b[0;34m\u001b[0m\n\u001b[1;32m     26\u001b[0m \u001b[0;34m\u001b[0m\u001b[0m\n\u001b[1;32m     27\u001b[0m \u001b[0;34m\u001b[0m\u001b[0m\n\u001b[0;32m---> 28\u001b[0;31m \u001b[0msesolve\u001b[0m\u001b[0;34m(\u001b[0m\u001b[0mh_t\u001b[0m\u001b[0;34m,\u001b[0m \u001b[0mpsi0\u001b[0m\u001b[0;34m,\u001b[0m \u001b[0mtaulist\u001b[0m\u001b[0;34m,\u001b[0m \u001b[0mprocess_rho\u001b[0m\u001b[0;34m,\u001b[0m \u001b[0margs\u001b[0m\u001b[0;34m,\u001b[0m \u001b[0moptions\u001b[0m\u001b[0;34m=\u001b[0m\u001b[0mOptions\u001b[0m\u001b[0;34m(\u001b[0m\u001b[0mnsteps\u001b[0m\u001b[0;34m=\u001b[0m\u001b[0;36m100000\u001b[0m\u001b[0;34m)\u001b[0m\u001b[0;34m,\u001b[0m \u001b[0m_safe_mode\u001b[0m\u001b[0;34m=\u001b[0m\u001b[0;32mTrue\u001b[0m\u001b[0;34m)\u001b[0m\u001b[0;34m\u001b[0m\u001b[0;34m\u001b[0m\u001b[0m\n\u001b[0m",
      "\u001b[0;32m~/.local/lib/python3.7/site-packages/qutip/sesolve.py\u001b[0m in \u001b[0;36msesolve\u001b[0;34m(H, psi0, tlist, e_ops, args, options, progress_bar, _safe_mode)\u001b[0m\n\u001b[1;32m    160\u001b[0m \u001b[0;34m\u001b[0m\u001b[0m\n\u001b[1;32m    161\u001b[0m     res = _generic_ode_solve(func, ode_args, psi0, tlist, e_ops, options,\n\u001b[0;32m--> 162\u001b[0;31m                              progress_bar, dims=psi0.dims)\n\u001b[0m\u001b[1;32m    163\u001b[0m     \u001b[0;32mif\u001b[0m \u001b[0me_ops_dict\u001b[0m\u001b[0;34m:\u001b[0m\u001b[0;34m\u001b[0m\u001b[0;34m\u001b[0m\u001b[0m\n\u001b[1;32m    164\u001b[0m         res.expect = {e: res.expect[n]\n",
      "\u001b[0;32m~/.local/lib/python3.7/site-packages/qutip/sesolve.py\u001b[0m in \u001b[0;36m_generic_ode_solve\u001b[0;34m(func, ode_args, psi0, tlist, e_ops, opt, progress_bar, dims)\u001b[0m\n\u001b[1;32m    374\u001b[0m         \u001b[0;32mif\u001b[0m \u001b[0mexpt_callback\u001b[0m\u001b[0;34m:\u001b[0m\u001b[0;34m\u001b[0m\u001b[0;34m\u001b[0m\u001b[0m\n\u001b[1;32m    375\u001b[0m             \u001b[0;31m# use callback method\u001b[0m\u001b[0;34m\u001b[0m\u001b[0;34m\u001b[0m\u001b[0;34m\u001b[0m\u001b[0m\n\u001b[0;32m--> 376\u001b[0;31m             \u001b[0moutput\u001b[0m\u001b[0;34m.\u001b[0m\u001b[0mexpect\u001b[0m\u001b[0;34m.\u001b[0m\u001b[0mappend\u001b[0m\u001b[0;34m(\u001b[0m\u001b[0me_ops\u001b[0m\u001b[0;34m(\u001b[0m\u001b[0mt\u001b[0m\u001b[0;34m,\u001b[0m \u001b[0mQobj\u001b[0m\u001b[0;34m(\u001b[0m\u001b[0mcdata\u001b[0m\u001b[0;34m,\u001b[0m \u001b[0mdims\u001b[0m\u001b[0;34m=\u001b[0m\u001b[0mdims\u001b[0m\u001b[0;34m)\u001b[0m\u001b[0;34m)\u001b[0m\u001b[0;34m)\u001b[0m\u001b[0;34m\u001b[0m\u001b[0;34m\u001b[0m\u001b[0m\n\u001b[0m\u001b[1;32m    377\u001b[0m \u001b[0;34m\u001b[0m\u001b[0m\n\u001b[1;32m    378\u001b[0m         \u001b[0;32mif\u001b[0m \u001b[0moper_evo\u001b[0m\u001b[0;34m:\u001b[0m\u001b[0;34m\u001b[0m\u001b[0;34m\u001b[0m\u001b[0m\n",
      "\u001b[0;32m<ipython-input-5-bcf2bcc06153>\u001b[0m in \u001b[0;36mprocess_rho\u001b[0;34m(tau, psi)\u001b[0m\n\u001b[1;32m     15\u001b[0m \u001b[0;34m\u001b[0m\u001b[0m\n\u001b[1;32m     16\u001b[0m     \u001b[0;31m# find the M lowest eigenvalues of the system\u001b[0m\u001b[0;34m\u001b[0m\u001b[0;34m\u001b[0m\u001b[0;34m\u001b[0m\u001b[0m\n\u001b[0;32m---> 17\u001b[0;31m     \u001b[0mevals\u001b[0m\u001b[0;34m,\u001b[0m \u001b[0mekets\u001b[0m \u001b[0;34m=\u001b[0m \u001b[0mH\u001b[0m\u001b[0;34m.\u001b[0m\u001b[0meigenstates\u001b[0m\u001b[0;34m(\u001b[0m\u001b[0meigvals\u001b[0m\u001b[0;34m=\u001b[0m\u001b[0mM\u001b[0m\u001b[0;34m)\u001b[0m\u001b[0;34m\u001b[0m\u001b[0;34m\u001b[0m\u001b[0m\n\u001b[0m\u001b[1;32m     18\u001b[0m \u001b[0;34m\u001b[0m\u001b[0m\n\u001b[1;32m     19\u001b[0m     \u001b[0mevals_mat\u001b[0m\u001b[0;34m[\u001b[0m\u001b[0midx\u001b[0m\u001b[0;34m[\u001b[0m\u001b[0;36m0\u001b[0m\u001b[0;34m]\u001b[0m\u001b[0;34m,\u001b[0m\u001b[0;34m:\u001b[0m\u001b[0;34m]\u001b[0m \u001b[0;34m=\u001b[0m \u001b[0mreal\u001b[0m\u001b[0;34m(\u001b[0m\u001b[0mevals\u001b[0m\u001b[0;34m)\u001b[0m\u001b[0;34m\u001b[0m\u001b[0;34m\u001b[0m\u001b[0m\n",
      "\u001b[0;32m~/.local/lib/python3.7/site-packages/qutip/qobj.py\u001b[0m in \u001b[0;36meigenstates\u001b[0;34m(self, sparse, sort, eigvals, tol, maxiter)\u001b[0m\n\u001b[1;32m   1633\u001b[0m         evals, evecs = sp_eigs(self.data, self.isherm, sparse=sparse,\n\u001b[1;32m   1634\u001b[0m                                \u001b[0msort\u001b[0m\u001b[0;34m=\u001b[0m\u001b[0msort\u001b[0m\u001b[0;34m,\u001b[0m \u001b[0meigvals\u001b[0m\u001b[0;34m=\u001b[0m\u001b[0meigvals\u001b[0m\u001b[0;34m,\u001b[0m \u001b[0mtol\u001b[0m\u001b[0;34m=\u001b[0m\u001b[0mtol\u001b[0m\u001b[0;34m,\u001b[0m\u001b[0;34m\u001b[0m\u001b[0;34m\u001b[0m\u001b[0m\n\u001b[0;32m-> 1635\u001b[0;31m                                maxiter=maxiter)\n\u001b[0m\u001b[1;32m   1636\u001b[0m         \u001b[0mnew_dims\u001b[0m \u001b[0;34m=\u001b[0m \u001b[0;34m[\u001b[0m\u001b[0mself\u001b[0m\u001b[0;34m.\u001b[0m\u001b[0mdims\u001b[0m\u001b[0;34m[\u001b[0m\u001b[0;36m0\u001b[0m\u001b[0;34m]\u001b[0m\u001b[0;34m,\u001b[0m \u001b[0;34m[\u001b[0m\u001b[0;36m1\u001b[0m\u001b[0;34m]\u001b[0m \u001b[0;34m*\u001b[0m \u001b[0mlen\u001b[0m\u001b[0;34m(\u001b[0m\u001b[0mself\u001b[0m\u001b[0;34m.\u001b[0m\u001b[0mdims\u001b[0m\u001b[0;34m[\u001b[0m\u001b[0;36m0\u001b[0m\u001b[0;34m]\u001b[0m\u001b[0;34m)\u001b[0m\u001b[0;34m]\u001b[0m\u001b[0;34m\u001b[0m\u001b[0;34m\u001b[0m\u001b[0m\n\u001b[1;32m   1637\u001b[0m         ekets = np.array([Qobj(vec, dims=new_dims) for vec in evecs],\n",
      "\u001b[0;32m~/.local/lib/python3.7/site-packages/qutip/sparse.py\u001b[0m in \u001b[0;36msp_eigs\u001b[0;34m(data, isherm, vecs, sparse, sort, eigvals, tol, maxiter)\u001b[0m\n\u001b[1;32m    372\u001b[0m     \u001b[0;32melse\u001b[0m\u001b[0;34m:\u001b[0m\u001b[0;34m\u001b[0m\u001b[0;34m\u001b[0m\u001b[0m\n\u001b[1;32m    373\u001b[0m         evals, evecs = _dense_eigs(data.todense(), isherm, vecs, N, eigvals,\n\u001b[0;32m--> 374\u001b[0;31m                                    num_large, num_small)\n\u001b[0m\u001b[1;32m    375\u001b[0m \u001b[0;34m\u001b[0m\u001b[0m\n\u001b[1;32m    376\u001b[0m     \u001b[0;32mif\u001b[0m \u001b[0msort\u001b[0m \u001b[0;34m==\u001b[0m \u001b[0;34m'high'\u001b[0m\u001b[0;34m:\u001b[0m  \u001b[0;31m# flip arrays to largest values first\u001b[0m\u001b[0;34m\u001b[0m\u001b[0;34m\u001b[0m\u001b[0m\n",
      "\u001b[0;32m~/.local/lib/python3.7/site-packages/qutip/sparse.py\u001b[0m in \u001b[0;36m_dense_eigs\u001b[0;34m(data, isherm, vecs, N, eigvals, num_large, num_small)\u001b[0m\n\u001b[1;32m    170\u001b[0m         \u001b[0;32mif\u001b[0m \u001b[0misherm\u001b[0m\u001b[0;34m:\u001b[0m\u001b[0;34m\u001b[0m\u001b[0;34m\u001b[0m\u001b[0m\n\u001b[1;32m    171\u001b[0m             \u001b[0;32mif\u001b[0m \u001b[0meigvals\u001b[0m \u001b[0;34m==\u001b[0m \u001b[0;36m0\u001b[0m\u001b[0;34m:\u001b[0m\u001b[0;34m\u001b[0m\u001b[0;34m\u001b[0m\u001b[0m\n\u001b[0;32m--> 172\u001b[0;31m                 \u001b[0mevals\u001b[0m\u001b[0;34m,\u001b[0m \u001b[0mevecs\u001b[0m \u001b[0;34m=\u001b[0m \u001b[0mla\u001b[0m\u001b[0;34m.\u001b[0m\u001b[0meigh\u001b[0m\u001b[0;34m(\u001b[0m\u001b[0mdata\u001b[0m\u001b[0;34m)\u001b[0m\u001b[0;34m\u001b[0m\u001b[0;34m\u001b[0m\u001b[0m\n\u001b[0m\u001b[1;32m    173\u001b[0m             \u001b[0;32melse\u001b[0m\u001b[0;34m:\u001b[0m\u001b[0;34m\u001b[0m\u001b[0;34m\u001b[0m\u001b[0m\n\u001b[1;32m    174\u001b[0m                 \u001b[0;32mif\u001b[0m \u001b[0mnum_small\u001b[0m \u001b[0;34m>\u001b[0m \u001b[0;36m0\u001b[0m\u001b[0;34m:\u001b[0m\u001b[0;34m\u001b[0m\u001b[0;34m\u001b[0m\u001b[0m\n",
      "\u001b[0;32m~/.local/lib/python3.7/site-packages/scipy/linalg/decomp.py\u001b[0m in \u001b[0;36meigh\u001b[0;34m(a, b, lower, eigvals_only, overwrite_a, overwrite_b, turbo, eigvals, type, check_finite)\u001b[0m\n\u001b[1;32m    430\u001b[0m         \u001b[0;32mif\u001b[0m \u001b[0meigvals\u001b[0m \u001b[0;32mis\u001b[0m \u001b[0;32mNone\u001b[0m\u001b[0;34m:\u001b[0m\u001b[0;34m\u001b[0m\u001b[0;34m\u001b[0m\u001b[0m\n\u001b[1;32m    431\u001b[0m             w, v, info = evr(a1, uplo=uplo, jobz=_job, range=\"A\", il=1,\n\u001b[0;32m--> 432\u001b[0;31m                              iu=a1.shape[0], overwrite_a=overwrite_a)\n\u001b[0m\u001b[1;32m    433\u001b[0m         \u001b[0;32melse\u001b[0m\u001b[0;34m:\u001b[0m\u001b[0;34m\u001b[0m\u001b[0;34m\u001b[0m\u001b[0m\n\u001b[1;32m    434\u001b[0m             \u001b[0;34m(\u001b[0m\u001b[0mlo\u001b[0m\u001b[0;34m,\u001b[0m \u001b[0mhi\u001b[0m\u001b[0;34m)\u001b[0m \u001b[0;34m=\u001b[0m \u001b[0meigvals\u001b[0m\u001b[0;34m\u001b[0m\u001b[0;34m\u001b[0m\u001b[0m\n",
      "\u001b[0;31mKeyboardInterrupt\u001b[0m: "
     ]
    }
   ],
   "source": [
    "\n",
    "\n",
    "# the time-dependent hamiltonian in list-function format\n",
    "args = {'t_max': max(taulist)}\n",
    "\n",
    "h_t = [[H0, lambda t, args : (args['t_max']-t)/args['t_max']],\n",
    "       [Hp, lambda t, args : t/args['t_max']]]\n",
    "\n",
    "evals_mat = np.zeros((len(taulist),M))\n",
    "P_mat = np.zeros((len(taulist),M))\n",
    "\n",
    "idx = [0]\n",
    "def process_rho(tau, psi):\n",
    "  \n",
    "    # evaluate the Hamiltonian with gradually switched on interaction \n",
    "    H = Qobj.evaluate(h_t, tau, args)\n",
    "\n",
    "    # find the M lowest eigenvalues of the system\n",
    "    evals, ekets = H.eigenstates(eigvals=M)\n",
    "\n",
    "    evals_mat[idx[0],:] = real(evals)\n",
    "    \n",
    "#     # find the overlap between the eigenstates and psi \n",
    "#     for n, eket in enumerate(ekets):\n",
    "#         P_mat[idx[0],n] = abs((eket.dag().data * psi.data)[0,0])**2    \n",
    "        \n",
    "    idx[0] += 1\n",
    "    \n",
    "\n",
    "sesolve(h_t, psi0, taulist, process_rho, args, options=Options(nsteps=100000), _safe_mode=True)"
   ]
  },
  {
   "cell_type": "code",
   "execution_count": null,
   "metadata": {},
   "outputs": [],
   "source": [
    "\n",
    "\n",
    "evals_mat[len(taulist)-1][0:13]\n"
   ]
  },
  {
   "cell_type": "code",
   "execution_count": null,
   "metadata": {},
   "outputs": [],
   "source": [
    "spin = 0\n",
    "\n",
    "for config in range(6):\n",
    "    for num in range(9):\n",
    "        spin = ekets_mat[len(taulist)-1][config].ptrace(num)\n",
    "        if spin == basis(2,0).proj():\n",
    "            print(0, end = '')\n",
    "        elif spin == basis(2,1).proj():\n",
    "            print(1, end = '')\n",
    "    print(\"\\n\")"
   ]
  },
  {
   "cell_type": "code",
   "execution_count": null,
   "metadata": {
    "scrolled": true
   },
   "outputs": [],
   "source": [
    "fig, axes = plt.subplots(2, 1, figsize=(120,100))\n",
    "\n",
    "#\n",
    "# plot the energy eigenvalues\n",
    "#\n",
    "\n",
    "# first draw thin lines outlining the energy spectrum\n",
    "for n in range(len(evals_mat[0,:])):\n",
    "    ls,lw = ('b',1) if n == 0 else ('k', 0.25)\n",
    "    axes[0].plot(taulist/max(taulist), evals_mat[:,n], ls, lw=lw)\n",
    "\n",
    "# # second, draw line that encode the occupation probability of each state in \n",
    "# # its linewidth. thicker line => high occupation probability.\n",
    "# for idx in range(len(taulist)-1):\n",
    "#     for n in range(len(P_mat[0,:])):\n",
    "#         lw = 0.5 + 4*P_mat[idx,n]    \n",
    "#         if lw > 0.55:\n",
    "#            axes[0].plot(array([taulist[idx], taulist[idx+1]])/taumax, \n",
    "#                         array([evals_mat[idx,n], evals_mat[idx+1,n]]), \n",
    "#                         'r', linewidth=lw)    \n",
    "        \n",
    "axes[0].set_xlabel(r'$\\tau$')\n",
    "axes[0].set_ylabel('Eigenenergies')\n",
    "axes[0].set_title(\"Energyspectrum (%d lowest values) of a chain of %d spins.\\n \" % (M,N)\n",
    "                + \"The occupation probabilities are encoded in the red line widths.\")\n",
    "\n",
    "#\n",
    "# plot the occupation probabilities for the few lowest eigenstates\n",
    "#\n",
    "# for n in range(len(P_mat[0,:])):\n",
    "#     if n == 0:\n",
    "#         axes[1].plot(taulist/max(taulist), 0 + P_mat[:,n], 'r', linewidth=2)\n",
    "#     else:\n",
    "#         axes[1].plot(taulist/max(taulist), 0 + P_mat[:,n])\n",
    "\n",
    "# axes[1].set_xlabel(r'$\\tau$')\n",
    "# axes[1].set_ylabel('Occupation probability')\n",
    "# axes[1].set_title(\"Occupation probability of the %d lowest \" % M +\n",
    "#                   \"eigenstates for a chain of %d spins\" % N)\n",
    "# axes[1].legend((\"Ground state\",));\n"
   ]
  },
  {
   "cell_type": "code",
   "execution_count": null,
   "metadata": {},
   "outputs": [],
   "source": []
  },
  {
   "cell_type": "code",
   "execution_count": null,
   "metadata": {},
   "outputs": [],
   "source": [
    "H0\n"
   ]
  },
  {
   "cell_type": "code",
   "execution_count": null,
   "metadata": {},
   "outputs": [],
   "source": [
    "psi_list"
   ]
  },
  {
   "cell_type": "code",
   "execution_count": null,
   "metadata": {},
   "outputs": [],
   "source": [
    "psi0"
   ]
  },
  {
   "cell_type": "code",
   "execution_count": null,
   "metadata": {},
   "outputs": [],
   "source": [
    "sz_list"
   ]
  },
  {
   "cell_type": "code",
   "execution_count": null,
   "metadata": {},
   "outputs": [],
   "source": [
    "# Lanczos algorithm\n",
    "# initial iteration step\n",
    "\n",
    "k = 50\n",
    "\n",
    "v0 = psi0.unit()\n",
    "\n",
    "w_prime = Hp * v0\n",
    "a0 = w_prime.dag() * v0\n",
    "w0 = w_prime - a0 * v0\n",
    "w_list = np.zeros((k),dtype = object)\n",
    "w_list[0] = w0\n",
    "\n",
    "b_list = np.zeros(k)\n",
    "a_list = np.zeros(k,dtype = object)\n",
    "a_list[0] = a0\n",
    "v_list = np.zeros((k),dtype = object)\n",
    "v_list[0] = v0\n"
   ]
  },
  {
   "cell_type": "code",
   "execution_count": null,
   "metadata": {},
   "outputs": [],
   "source": [
    "# Lanczos algorithm\n",
    "\n",
    "def orthog(v):\n",
    "    '''Householder transformation'''\n",
    "#     Householder transformation\n",
    "    u, indices = unique(v, return_index = True)\n",
    "    ind = randint(0,max(v.shape))\n",
    "    while ind == max(indices):\n",
    "        ind = randint(0,max(v.shape))\n",
    "    v_prime = np.zeros(v.shape)\n",
    "    v_prime[ind] = 1.0\n",
    "    v_prime = Qobj(v_prime, dims = v.dims)\n",
    "    n = (v - v_prime).unit()\n",
    "    \n",
    "    P = si_list[0] - (2.0 * n * n.dag())\n",
    "    m = np.zeros(v.shape)\n",
    "    ind_m = randint(0,max(v.shape))\n",
    "    while ind_m == ind:\n",
    "        ind_m = randint(0,max(v.shape))\n",
    "    m[ind_m] = 1.0\n",
    "    m = Qobj(m, dims = v.dims)\n",
    "    return Qobj(P * m)\n",
    "\n",
    "def OutOrthog(v_list,j):\n",
    "    for v in v_list[0:j]:\n",
    "        output = orthog(v)\n",
    "        for w in v_list[0:j]:\n",
    "            if output.overlap(w) != 0:\n",
    "                break\n",
    "        else:\n",
    "            return output\n",
    "        \n",
    "\n",
    "for j in range(1,k):\n",
    "    b_list[j] = w_list[j-1].norm()\n",
    "    if b_list[j] != 0:\n",
    "        v_list[j] = Qobj((w_list[j-1] / b_list[j]),dims = v0.dims)\n",
    "#         print(\"one\")\n",
    "    else:\n",
    "        v_list[j] = OutOrthog(v_list,j)\n",
    "#         print(\"two\")\n",
    "    w_prime = Qobj((Hp * v_list[j]),dims = (Hp * v0).dims)\n",
    "    a_list[j] = w_prime.dag() * v_list[j]\n",
    "    w_list[j] = Qobj(w_prime - (a_list[j] * v_list[j])) - (b_list[j] * v_list[j-1])\n",
    "    \n",
    "\n"
   ]
  },
  {
   "cell_type": "code",
   "execution_count": null,
   "metadata": {},
   "outputs": [],
   "source": [
    "for j in range(len(a_list)):\n",
    "    a_list[j] = real(a_list[j].full()).item()\n",
    "    b_list[j] = real(b_list[j])\n",
    "T = diagflat(a_list) + diagflat(b_list[1:len(b_list)],1) + diagflat(b_list[1:len(b_list)],-1)"
   ]
  },
  {
   "cell_type": "code",
   "execution_count": null,
   "metadata": {},
   "outputs": [],
   "source": [
    "print(T)"
   ]
  },
  {
   "cell_type": "code",
   "execution_count": null,
   "metadata": {},
   "outputs": [],
   "source": []
  },
  {
   "cell_type": "code",
   "execution_count": null,
   "metadata": {},
   "outputs": [],
   "source": []
  },
  {
   "cell_type": "markdown",
   "metadata": {},
   "source": []
  }
 ],
 "metadata": {
  "kernelspec": {
   "display_name": "Python 3",
   "language": "python",
   "name": "python3"
  },
  "language_info": {
   "codemirror_mode": {
    "name": "ipython",
    "version": 3
   },
   "file_extension": ".py",
   "mimetype": "text/x-python",
   "name": "python",
   "nbconvert_exporter": "python",
   "pygments_lexer": "ipython3",
   "version": "3.7.3"
  }
 },
 "nbformat": 4,
 "nbformat_minor": 2
}
