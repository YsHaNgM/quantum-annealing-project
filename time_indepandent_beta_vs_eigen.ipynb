{
 "cells": [
  {
   "cell_type": "code",
   "execution_count": 1,
   "metadata": {},
   "outputs": [],
   "source": [
    "from qutip import *\n",
    "from scipy import *\n",
    "import numpy as np\n",
    "import matplotlib.pyplot as plt\n",
    "\n",
    "vec_eigen = []\n",
    "vec_h = np.linspace(-5,5,10)\n",
    "\n",
    "\n",
    "def eigenenergy(ele_h):\n",
    "    N = 1\n",
    "    M=1\n",
    "    h  = ele_h * np.ones(N)\n",
    "    Jz = 1.0 * 2 * pi * (1 - 2 * rand(N))\n",
    "    Jx = 1.0 * 2 * pi * (1 - 2 * rand(N))\n",
    "\n",
    "    # Jy = 1.0 * 2 * pi * (1 - 2 * rand(N))\n",
    "\n",
    "    taumax = 10.0\n",
    "    taulist = np.linspace(0, taumax, 10)\n",
    "\n",
    "    si = qeye(2)\n",
    "    sx = sigmax()\n",
    "    sz = sigmaz()\n",
    "    # sy = sigmay()\n",
    "\n",
    "    sx_list = []\n",
    "    sz_list = []\n",
    "    # sy_list = []\n",
    "\n",
    "    for n in range(N):\n",
    "        op_list = []\n",
    "        for m in range(N):\n",
    "            op_list.append(si)\n",
    "\n",
    "\n",
    "        op_list[n] = sx\n",
    "        sx_list.append(tensor(op_list))\n",
    "\n",
    "        op_list[n] = sz\n",
    "        sz_list.append(tensor(op_list))\n",
    "\n",
    "    #     op_list[n] = sy\n",
    "    #     sy_list.append(tensor(op_list))\n",
    "\n",
    "    psi_list = [basis(2,0) for n in range(N)]\n",
    "    psi0 = tensor(psi_list)\n",
    "    #H0 transverse term\n",
    "    H0 = 0    \n",
    "    for n in range(N):\n",
    "        H0 += 0 * sx_list[n]\n",
    "\n",
    "\n",
    "    #Hp problem term\n",
    "    Hp = 0    \n",
    "    for n in range(N):\n",
    "        Hp += h[n] * sz_list[n]\n",
    "\n",
    "    # Hp = 0    \n",
    "    # for n in range(N-1):\n",
    "    #     # interaction terms\n",
    "    # #     H1 += - 0.5 * Jx[n] * sx_list[n] * sx_list[n+1]\n",
    "    #     Hp += - 0.5 * Jz[n] * sz_list[n] * sz_list[n+1]\n",
    "    # #     H1 += - 0.5 * Jy[n] * sy_list[n] * sy_list[n+1]\n",
    "\n",
    "    # the time-dependent hamiltonian in list-function format\n",
    "    args = {'t_max': max(taulist)}\n",
    "    h_t = [[H0, lambda t, args : 1],\n",
    "           [Hp, lambda t, args : 1]]\n",
    "    # h_t = [[H0, lambda t, args : (args['t_max']-t)/args['t_max']],\n",
    "    #        [Hp, lambda t, args : t/args['t_max']]]\n",
    "\n",
    "    evals_mat = np.zeros((len(taulist),M))\n",
    "    P_mat = np.zeros((len(taulist),M))\n",
    "\n",
    "    idx = [0]\n",
    "    \n",
    "    def process_rho(tau, psi):\n",
    "\n",
    "        # evaluate the Hamiltonian with gradually switched on interaction \n",
    "        H = Qobj.evaluate(h_t, tau, args)\n",
    "\n",
    "        # find the M lowest eigenvalues of the system\n",
    "        evals, ekets = H.eigenstates(eigvals=M)\n",
    "\n",
    "        evals_mat[idx[0],:] = evals\n",
    "\n",
    "        # find the overlap between the eigenstates and psi \n",
    "#         for n, eket in enumerate(ekets):\n",
    "#             P_mat[idx[0],n] = abs((eket.dag().data * psi.data)[0,0])**2    \n",
    "\n",
    "        idx[0] += 1\n",
    "\n",
    "    mesolve(h_t, psi0, taulist, [], process_rho, args)\n",
    "    return evals_mat[0,n]\n"
   ]
  },
  {
   "cell_type": "code",
   "execution_count": 2,
   "metadata": {},
   "outputs": [],
   "source": [
    "for k in vec_h:\n",
    "    temp = eigenenergy(k)\n",
    "    vec_eigen.append(temp)"
   ]
  },
  {
   "cell_type": "code",
   "execution_count": 3,
   "metadata": {},
   "outputs": [
    {
     "data": {
      "text/plain": [
       "[<matplotlib.lines.Line2D at 0x11befc400>]"
      ]
     },
     "execution_count": 3,
     "metadata": {},
     "output_type": "execute_result"
    },
    {
     "data": {
      "image/png": "[encoded data removed]",
      "text/plain": [
       "<Figure size 432x288 with 1 Axes>"
      ]
     },
     "metadata": {
      "needs_background": "light"
     },
     "output_type": "display_data"
    }
   ],
   "source": [
    "plt.plot(vec_h, vec_eigen)"
   ]
  },
  {
   "cell_type": "code",
   "execution_count": 4,
   "metadata": {},
   "outputs": [
    {
     "data": {
      "text/plain": [
       "[Quantum object: dims = [[2], [1]], shape = (2, 1), type = ket\n",
       " Qobj data =\n",
       " [[1.]\n",
       "  [0.]]]"
      ]
     },
     "execution_count": 4,
     "metadata": {},
     "output_type": "execute_result"
    }
   ],
   "source": [
    "N=1\n",
    "[basis(2,0) for n in range(N)]"
   ]
  },
  {
   "cell_type": "code",
   "execution_count": null,
   "metadata": {},
   "outputs": [],
   "source": []
  }
 ],
 "metadata": {
  "kernelspec": {
   "display_name": "Python 3",
   "language": "python",
   "name": "python3"
  },
  "language_info": {
   "codemirror_mode": {
    "name": "ipython",
    "version": 3
   },
   "file_extension": ".py",
   "mimetype": "text/x-python",
   "name": "python",
   "nbconvert_exporter": "python",
   "pygments_lexer": "ipython3",
   "version": "3.7.3"
  }
 },
 "nbformat": 4,
 "nbformat_minor": 2
}
